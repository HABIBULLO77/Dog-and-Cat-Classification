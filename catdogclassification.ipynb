{
 "cells": [
  {
   "cell_type": "code",
   "execution_count": 1,
   "metadata": {},
   "outputs": [
    {
     "name": "stdout",
     "output_type": "stream",
     "text": [
      "INFO:tensorflow:Enabling eager execution\n",
      "INFO:tensorflow:Enabling v2 tensorshape\n",
      "INFO:tensorflow:Enabling resource variables\n",
      "INFO:tensorflow:Enabling tensor equality\n",
      "INFO:tensorflow:Enabling control flow v2\n"
     ]
    }
   ],
   "source": [
    "import tensorflow as tf\n",
    "from tensorflow import keras\n",
    "from tensorflow.keras import layers"
   ]
  },
  {
   "cell_type": "markdown",
   "metadata": {},
   "source": [
    "### We download the Dogs and Cats dataset(it va mushuklar datasetini kompyuterimiz xotirasiga yuklaymiz)"
   ]
  },
  {
   "cell_type": "code",
   "execution_count": 3,
   "metadata": {},
   "outputs": [
    {
     "name": "stderr",
     "output_type": "stream",
     "text": [
      "  % Total    % Received % Xferd  Average Speed   Time    Time     Time  Current\n",
      "                                 Dload  Upload   Total   Spent    Left  Speed\n",
      "\n",
      "  0     0    0     0    0     0      0      0 --:--:-- --:--:-- --:--:--     0\n",
      "  0  786M    0  206k    0     0   459k      0  0:29:13 --:--:--  0:29:13  459k\n",
      "  0  786M    0 4683k    0     0  3207k      0  0:04:11  0:00:01  0:04:10 3210k\n",
      "  1  786M    1 10.9M    0     0  4586k      0  0:02:55  0:00:02  0:02:53 4587k\n",
      "  2  786M    2 16.6M    0     0  4955k      0  0:02:42  0:00:03  0:02:39 4956k\n",
      "  2  786M    2 22.3M    0     0  5085k      0  0:02:38  0:00:04  0:02:34 5085k\n",
      "  3  786M    3 27.9M    0     0  5236k      0  0:02:33  0:00:05  0:02:28 5665k\n",
      "  4  786M    4 33.2M    0     0  5248k      0  0:02:33  0:00:06  0:02:27 5843k\n",
      "  4  786M    4 38.3M    0     0  5269k      0  0:02:32  0:00:07  0:02:25 5604k\n",
      "  5  786M    5 44.7M    0     0  5401k      0  0:02:29  0:00:08  0:02:21 5707k\n",
      "  6  786M    6 50.3M    0     0  5449k      0  0:02:27  0:00:09  0:02:18 5779k\n",
      "  7  786M    7 56.1M    0     0  5427k      0  0:02:28  0:00:10  0:02:18 5630k\n",
      "  7  786M    7 60.2M    0     0  5368k      0  0:02:30  0:00:11  0:02:19 5523k\n",
      "  8  786M    8 66.6M    0     0  5481k      0  0:02:26  0:00:12  0:02:14 5797k\n",
      "  9  786M    9 72.0M    0     0  5482k      0  0:02:26  0:00:13  0:02:13 5622k\n",
      "  9  786M    9 78.0M    0     0  5534k      0  0:02:25  0:00:14  0:02:11 5694k\n",
      " 10  786M   10 83.7M    0     0  5545k      0  0:02:25  0:00:15  0:02:10 5802k\n",
      " 11  786M   11 89.8M    0     0  5595k      0  0:02:23  0:00:16  0:02:07 6120k\n",
      " 12  786M   12 95.3M    0     0  5578k      0  0:02:24  0:00:17  0:02:07 5818k\n",
      " 12  786M   12  100M    0     0  5596k      0  0:02:23  0:00:18  0:02:05 5901k\n",
      " 13  786M   13  106M    0     0  5622k      0  0:02:23  0:00:19  0:02:04 5875k\n",
      " 14  786M   14  112M    0     0  5617k      0  0:02:23  0:00:20  0:02:03 5838k\n",
      " 15  786M   15  118M    0     0  5651k      0  0:02:22  0:00:21  0:02:01 5835k\n",
      " 15  786M   15  124M    0     0  5684k      0  0:02:21  0:00:22  0:01:59 6059k\n",
      " 16  786M   16  127M    0     0  5586k      0  0:02:24  0:00:23  0:02:01 5548k\n",
      " 16  786M   16  132M    0     0  5531k      0  0:02:25  0:00:24  0:02:01 5177k\n",
      " 17  786M   17  138M    0     0  5558k      0  0:02:24  0:00:25  0:01:59 5315k\n",
      " 18  786M   18  144M    0     0  5571k      0  0:02:24  0:00:26  0:01:58 5224k\n",
      " 18  786M   18  149M    0     0  5567k      0  0:02:24  0:00:27  0:01:57 5044k\n",
      " 19  786M   19  156M    0     0  5617k      0  0:02:23  0:00:28  0:01:55 5764k\n",
      " 20  786M   20  161M    0     0  5619k      0  0:02:23  0:00:29  0:01:54 6044k\n",
      " 21  786M   21  167M    0     0  5643k      0  0:02:22  0:00:30  0:01:52 6082k\n",
      " 22  786M   22  173M    0     0  5654k      0  0:02:22  0:00:31  0:01:51 6091k\n",
      " 22  786M   22  179M    0     0  5670k      0  0:02:22  0:00:32  0:01:50 6239k\n",
      " 23  786M   23  185M    0     0  5677k      0  0:02:21  0:00:33  0:01:48 6019k\n",
      " 24  786M   24  191M    0     0  5674k      0  0:02:21  0:00:34  0:01:47 6001k\n",
      " 25  786M   25  197M    0     0  5686k      0  0:02:21  0:00:35  0:01:46 5943k\n",
      " 25  786M   25  203M    0     0  5703k      0  0:02:21  0:00:36  0:01:45 6012k\n",
      " 26  786M   26  209M    0     0  5721k      0  0:02:20  0:00:37  0:01:43 6052k\n",
      " 27  786M   27  215M    0     0  5727k      0  0:02:20  0:00:38  0:01:42 6064k\n",
      " 28  786M   28  220M    0     0  5720k      0  0:02:20  0:00:39  0:01:41 6041k\n",
      " 28  786M   28  226M    0     0  5725k      0  0:02:20  0:00:40  0:01:40 6003k\n",
      " 29  786M   29  232M    0     0  5742k      0  0:02:20  0:00:41  0:01:39 6026k\n",
      " 30  786M   30  238M    0     0  5738k      0  0:02:20  0:00:42  0:01:38 5863k\n",
      " 31  786M   31  244M    0     0  5752k      0  0:02:20  0:00:43  0:01:37 5943k\n",
      " 31  786M   31  250M    0     0  5766k      0  0:02:19  0:00:44  0:01:35 6128k\n",
      " 32  786M   32  256M    0     0  5771k      0  0:02:19  0:00:45  0:01:34 6146k\n",
      " 33  786M   33  261M    0     0  5772k      0  0:02:19  0:00:46  0:01:33 6023k\n",
      " 34  786M   34  267M    0     0  5774k      0  0:02:19  0:00:47  0:01:32 6087k\n",
      " 34  786M   34  273M    0     0  5778k      0  0:02:19  0:00:48  0:01:31 6007k\n",
      " 35  786M   35  279M    0     0  5784k      0  0:02:19  0:00:49  0:01:30 5943k\n",
      " 36  786M   36  285M    0     0  5788k      0  0:02:19  0:00:50  0:01:29 5942k\n",
      " 37  786M   37  291M    0     0  5794k      0  0:02:19  0:00:51  0:01:28 5994k\n",
      " 37  786M   37  296M    0     0  5796k      0  0:02:18  0:00:52  0:01:26 6006k\n",
      " 38  786M   38  303M    0     0  5807k      0  0:02:18  0:00:53  0:01:25 6087k\n",
      " 39  786M   39  308M    0     0  5811k      0  0:02:18  0:00:54  0:01:24 6076k\n",
      " 39  786M   39  314M    0     0  5807k      0  0:02:18  0:00:55  0:01:23 5995k\n",
      " 40  786M   40  320M    0     0  5810k      0  0:02:18  0:00:56  0:01:22 5980k\n",
      " 41  786M   41  326M    0     0  5814k      0  0:02:18  0:00:57  0:01:21 6005k\n",
      " 42  786M   42  332M    0     0  5818k      0  0:02:18  0:00:58  0:01:20 5933k\n",
      " 43  786M   43  338M    0     0  5827k      0  0:02:18  0:00:59  0:01:19 6007k\n",
      " 43  786M   43  342M    0     0  5794k      0  0:02:19  0:01:00  0:01:19 5655k\n",
      " 44  786M   44  348M    0     0  5803k      0  0:02:18  0:01:01  0:01:17 5718k\n",
      " 45  786M   45  354M    0     0  5805k      0  0:02:18  0:01:02  0:01:16 5702k\n",
      " 45  786M   45  359M    0     0  5804k      0  0:02:18  0:01:03  0:01:15 5640k\n",
      " 46  786M   46  365M    0     0  5806k      0  0:02:18  0:01:04  0:01:14 5561k\n",
      " 47  786M   47  371M    0     0  5810k      0  0:02:18  0:01:05  0:01:13 6007k\n",
      " 47  786M   47  377M    0     0  5813k      0  0:02:18  0:01:06  0:01:12 5941k\n",
      " 48  786M   48  382M    0     0  5814k      0  0:02:18  0:01:07  0:01:11 5917k\n",
      " 49  786M   49  389M    0     0  5823k      0  0:02:18  0:01:08  0:01:10 6064k\n",
      " 50  786M   50  394M    0     0  5820k      0  0:02:18  0:01:09  0:01:09 5999k\n",
      " 50  786M   50  400M    0     0  5824k      0  0:02:18  0:01:10  0:01:08 5997k\n",
      " 51  786M   51  406M    0     0  5817k      0  0:02:18  0:01:11  0:01:07 5872k\n",
      " 52  786M   52  412M    0     0  5829k      0  0:02:18  0:01:12  0:01:06 6040k\n",
      " 53  786M   53  418M    0     0  5831k      0  0:02:18  0:01:13  0:01:05 5947k\n",
      " 53  786M   53  424M    0     0  5830k      0  0:02:18  0:01:14  0:01:04 5969k\n",
      " 54  786M   54  430M    0     0  5840k      0  0:02:17  0:01:15  0:01:02 6066k\n",
      " 55  786M   55  436M    0     0  5842k      0  0:02:17  0:01:16  0:01:01 6199k\n",
      " 56  786M   56  441M    0     0  5840k      0  0:02:17  0:01:17  0:01:00 6003k\n",
      " 56  786M   56  447M    0     0  5842k      0  0:02:17  0:01:18  0:00:59 5999k\n",
      " 57  786M   57  453M    0     0  5839k      0  0:02:17  0:01:19  0:00:58 5963k\n",
      " 58  786M   58  459M    0     0  5845k      0  0:02:17  0:01:20  0:00:57 5925k\n",
      " 59  786M   59  464M    0     0  5832k      0  0:02:18  0:01:21  0:00:57 5684k\n",
      " 59  786M   59  470M    0     0  5832k      0  0:02:18  0:01:22  0:00:56 5704k\n",
      " 60  786M   60  476M    0     0  5850k      0  0:02:17  0:01:23  0:00:54 5983k\n",
      " 61  786M   61  482M    0     0  5849k      0  0:02:17  0:01:24  0:00:53 6007k\n",
      " 62  786M   62  487M    0     0  5846k      0  0:02:17  0:01:25  0:00:52 5864k\n",
      " 62  786M   62  492M    0     0  5834k      0  0:02:18  0:01:26  0:00:52 5876k\n",
      " 63  786M   63  498M    0     0  5837k      0  0:02:18  0:01:27  0:00:51 5913k\n",
      " 64  786M   64  504M    0     0  5842k      0  0:02:17  0:01:28  0:00:49 5696k\n",
      " 64  786M   64  508M    0     0  5820k      0  0:02:18  0:01:29  0:00:49 5332k\n",
      " 65  786M   65  513M    0     0  5813k      0  0:02:18  0:01:30  0:00:48 5248k\n",
      " 65  786M   65  518M    0     0  5808k      0  0:02:18  0:01:31  0:00:47 5343k\n",
      " 66  786M   66  523M    0     0  5801k      0  0:02:18  0:01:32  0:00:46 5164k\n",
      " 67  786M   67  528M    0     0  5788k      0  0:02:19  0:01:33  0:00:46 4851k\n",
      " 67  786M   67  533M    0     0  5786k      0  0:02:19  0:01:34  0:00:45 5187k\n",
      " 68  786M   68  539M    0     0  5782k      0  0:02:19  0:01:35  0:00:44 5226k\n",
      " 69  786M   69  543M    0     0  5774k      0  0:02:19  0:01:36  0:00:43 5153k\n",
      " 69  786M   69  550M    0     0  5786k      0  0:02:19  0:01:37  0:00:42 5505k\n",
      " 70  786M   70  556M    0     0  5787k      0  0:02:19  0:01:38  0:00:41 5759k\n",
      " 71  786M   71  561M    0     0  5773k      0  0:02:19  0:01:39  0:00:40 5531k\n",
      " 71  786M   71  566M    0     0  5770k      0  0:02:19  0:01:40  0:00:39 5539k\n",
      " 72  786M   72  572M    0     0  5771k      0  0:02:19  0:01:41  0:00:38 5732k\n",
      " 73  786M   73  577M    0     0  5774k      0  0:02:19  0:01:42  0:00:37 5546k\n",
      " 74  786M   74  583M    0     0  5780k      0  0:02:19  0:01:43  0:00:36 5647k\n",
      " 74  786M   74  589M    0     0  5780k      0  0:02:19  0:01:44  0:00:35 5928k\n",
      " 75  786M   75  595M    0     0  5780k      0  0:02:19  0:01:45  0:00:34 5971k\n",
      " 76  786M   76  601M    0     0  5781k      0  0:02:19  0:01:46  0:00:33 5977k\n",
      " 77  786M   77  607M    0     0  5783k      0  0:02:19  0:01:47  0:00:32 5961k\n",
      " 77  786M   77  612M    0     0  5785k      0  0:02:19  0:01:48  0:00:31 5879k\n",
      " 78  786M   78  618M    0     0  5782k      0  0:02:19  0:01:49  0:00:30 5822k\n",
      " 79  786M   79  624M    0     0  5785k      0  0:02:19  0:01:50  0:00:29 5895k\n",
      " 80  786M   80  630M    0     0  5793k      0  0:02:19  0:01:51  0:00:28 6053k\n",
      " 80  786M   80  636M    0     0  5795k      0  0:02:18  0:01:52  0:00:26 6067k\n",
      " 81  786M   81  642M    0     0  5792k      0  0:02:19  0:01:53  0:00:26 5959k\n",
      " 82  786M   82  648M    0     0  5798k      0  0:02:18  0:01:54  0:00:24 6154k\n",
      " 83  786M   83  652M    0     0  5790k      0  0:02:19  0:01:55  0:00:24 5902k\n",
      " 83  786M   83  658M    0     0  5787k      0  0:02:19  0:01:56  0:00:23 5636k\n",
      " 84  786M   84  662M    0     0  5777k      0  0:02:19  0:01:57  0:00:22 5374k\n",
      " 84  786M   84  667M    0     0  5765k      0  0:02:19  0:01:58  0:00:21 5142k\n",
      " 85  786M   85  672M    0     0  5762k      0  0:02:19  0:01:59  0:00:20 4956k\n",
      " 86  786M   86  678M    0     0  5769k      0  0:02:19  0:02:00  0:00:19 5281k\n",
      " 86  786M   86  684M    0     0  5767k      0  0:02:19  0:02:01  0:00:18 5320k\n",
      " 87  786M   87  690M    0     0  5777k      0  0:02:19  0:02:02  0:00:17 5780k\n",
      " 88  786M   88  696M    0     0  5779k      0  0:02:19  0:02:03  0:00:16 6106k\n",
      " 89  786M   89  702M    0     0  5778k      0  0:02:19  0:02:04  0:00:15 6148k\n",
      " 90  786M   90  708M    0     0  5780k      0  0:02:19  0:02:05  0:00:14 6041k\n",
      " 90  786M   90  714M    0     0  5782k      0  0:02:19  0:02:06  0:00:13 6134k\n",
      " 91  786M   91  719M    0     0  5782k      0  0:02:19  0:02:07  0:00:12 5889k\n",
      " 92  786M   92  725M    0     0  5781k      0  0:02:19  0:02:08  0:00:11 5825k\n",
      " 92  786M   92  730M    0     0  5776k      0  0:02:19  0:02:09  0:00:10 5733k\n",
      " 93  786M   93  736M    0     0  5780k      0  0:02:19  0:02:10  0:00:09 5778k\n",
      " 94  786M   94  741M    0     0  5779k      0  0:02:19  0:02:11  0:00:08 5719k\n",
      " 94  786M   94  746M    0     0  5769k      0  0:02:19  0:02:12  0:00:07 5435k\n",
      " 95  786M   95  753M    0     0  5778k      0  0:02:19  0:02:13  0:00:06 5722k\n",
      " 96  786M   96  759M    0     0  5780k      0  0:02:19  0:02:14  0:00:05 5882k\n",
      " 97  786M   97  764M    0     0  5781k      0  0:02:19  0:02:15  0:00:04 5812k\n",
      " 98  786M   98  771M    0     0  5787k      0  0:02:19  0:02:16  0:00:03 5989k\n",
      " 98  786M   98  777M    0     0  5789k      0  0:02:19  0:02:17  0:00:02 6330k\n",
      " 99  786M   99  781M    0     0  5781k      0  0:02:19  0:02:18  0:00:01 5860k\n",
      "100  786M  100  786M    0     0  5790k      0  0:02:19  0:02:19 --:--:-- 6078k\n"
     ]
    }
   ],
   "source": [
    "!curl -O https://download.microsoft.com/download/3/E/1/3E1C3F21-ECDB-4869-8368-6DEBA77B919F/kagglecatsanddogs_3367a.zip"
   ]
  },
  {
   "cell_type": "code",
   "execution_count": 1,
   "metadata": {},
   "outputs": [
    {
     "name": "stdout",
     "output_type": "stream",
     "text": [
      " Volume in drive D is 1TB HDD\n",
      " Volume Serial Number is C838-CEB9\n",
      "\n",
      " Directory of d:\\Projects\\AI\\Hand-on Machine learning projects\\Dog and Cat Classification\n",
      "\n",
      "04/05/2022  02:48 AM    <DIR>          .\n",
      "04/05/2022  02:48 AM    <DIR>          ..\n",
      "04/05/2022  02:54 AM            15,129 catdogclassification.ipynb\n",
      "02/10/2017  09:55 AM            35,545 MSR-LA - 3467.docx\n",
      "02/10/2017  09:51 AM               104 readme[1].txt\n",
      "               3 File(s)         50,778 bytes\n",
      "               2 Dir(s)  931,558,252,544 bytes free\n"
     ]
    }
   ],
   "source": [
    "!dir"
   ]
  },
  {
   "cell_type": "markdown",
   "metadata": {},
   "source": [
    "## Filter out corrupted images (Yaxshi kodlanmagan rasmlarni datasetimizdan olib tashlaymiz)"
   ]
  },
  {
   "cell_type": "code",
   "execution_count": 5,
   "metadata": {},
   "outputs": [
    {
     "name": "stdout",
     "output_type": "stream",
     "text": [
      "Deleted 1578 images\n"
     ]
    }
   ],
   "source": [
    "import os\n",
    "\n",
    "num_skipped = 0\n",
    "for folder_name in (\"Cat\", \"Dog\"):\n",
    "    folder_path = os.path.join(\"D:\\Projects\\AI\\Hand-on Machine learning projects\\PetImages\", folder_name)\n",
    "    for fname in os.listdir(folder_path):\n",
    "        fpath = os.path.join(folder_path, fname)\n",
    "        try:\n",
    "            fobj = open(fpath, \"rb\")\n",
    "            is_jfif = tf.compat.as_bytes(\"JFIF\") in fobj.peek(10)\n",
    "        finally:\n",
    "            fobj.close()\n",
    "\n",
    "        if not is_jfif:\n",
    "            num_skipped += 1\n",
    "            # Delete corrupted image\n",
    "            os.remove(fpath)\n",
    "\n",
    "print(\"Deleted %d images\" % num_skipped)"
   ]
  },
  {
   "cell_type": "markdown",
   "metadata": {},
   "source": [
    "#### Generate Dataset ( Datasetni train qilish uchun tayyorlaymiz)"
   ]
  },
  {
   "cell_type": "code",
   "execution_count": 8,
   "metadata": {},
   "outputs": [
    {
     "name": "stdout",
     "output_type": "stream",
     "text": [
      "Found 23422 files belonging to 2 classes.\n",
      "Using 18738 files for training.\n",
      "Found 23422 files belonging to 2 classes.\n",
      "Using 4684 files for validation.\n"
     ]
    }
   ],
   "source": [
    "image_size = (180, 180)\n",
    "batch_size = 32\n",
    "\n",
    "train_ds = tf.keras.preprocessing.image_dataset_from_directory(\n",
    "    \"D:\\Projects\\AI\\Hand-on Machine learning projects\\PetImages\",\n",
    "    validation_split=0.2,\n",
    "    subset=\"training\",\n",
    "    seed=1337,\n",
    "    image_size=image_size,\n",
    "    batch_size=batch_size,\n",
    ")\n",
    "val_ds = tf.keras.preprocessing.image_dataset_from_directory(\n",
    "    \"D:\\Projects\\AI\\Hand-on Machine learning projects\\PetImages\",\n",
    "    validation_split=0.2,\n",
    "    subset=\"validation\",\n",
    "    seed=1337,\n",
    "    image_size=image_size,\n",
    "    batch_size=batch_size,\n",
    ")"
   ]
  },
  {
   "cell_type": "markdown",
   "metadata": {},
   "source": [
    "### Let's visualize the data (Ma'lumotlarni ko'raylik...)\n",
    "Here are the first 9 images in the training dataset. As you can see, label 1 is 'dog' and label 0 is 'cat'.\n",
    "(Bu yerda train qiladigan datasetimizdagi 9 ta rasm. label1 'it' va label 0 'mushuk' uchun.)"
   ]
  }
 ],
 "metadata": {
  "interpreter": {
   "hash": "cf6663ca35ebd57d6121109460e534e72c1e1f8ff142ad985cdcb4b7e585eb79"
  },
  "kernelspec": {
   "display_name": "Python 3.9.2 64-bit",
   "language": "python",
   "name": "python3"
  },
  "language_info": {
   "codemirror_mode": {
    "name": "ipython",
    "version": 3
   },
   "file_extension": ".py",
   "mimetype": "text/x-python",
   "name": "python",
   "nbconvert_exporter": "python",
   "pygments_lexer": "ipython3",
   "version": "3.9.2"
  },
  "orig_nbformat": 4
 },
 "nbformat": 4,
 "nbformat_minor": 2
}
